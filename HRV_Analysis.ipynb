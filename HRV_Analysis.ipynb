{
  "cells": [
    {
      "cell_type": "markdown",
      "metadata": {},
      "source": [
        "# HRV Analysis in Python\n",
        "This notebook demonstrates a basic Heart Rate Variability (HRV) analysis using RR interval data."
      ]
    },
    {
      "cell_type": "code",
      "execution_count": null,
      "metadata": {},
      "outputs": [],
      "source": [
        "import pandas as pd\n",
        "import matplotlib.pyplot as plt\n",
        "import numpy as np\n",
        "\n",
        "# Load RR interval data (in milliseconds)\n",
        "data = pd.read_csv(\"hrv_sample_data.csv\")\n",
        "rr_intervals = data['RR_interval_ms']\n",
        "\n",
        "# Basic HRV calculations\n",
        "mean_rr = np.mean(rr_intervals)\n",
        "sdnn = np.std(rr_intervals)\n",
        "\n",
        "print(f\"Mean RR: {mean_rr:.2f} ms\")\n",
        "print(f\"SDNN: {sdnn:.2f} ms\")\n",
        "\n",
        "# Plotting RR intervals\n",
        "plt.plot(rr_intervals)\n",
        "plt.title(\"RR Intervals Over Time\")\n",
        "plt.xlabel(\"Beat Number\")\n",
        "plt.ylabel(\"RR Interval (ms)\")\n",
        "plt.grid()\n",
        "plt.show()"
      ]
    }
  ],
  "metadata": {
    "kernelspec": {
      "display_name": "Python 3",
      "language": "python",
      "name": "python3"
    },
    "language_info": {
      "name": "python",
      "version": "3.8"
    }
  },
  "nbformat": 4,
  "nbformat_minor": 2
}